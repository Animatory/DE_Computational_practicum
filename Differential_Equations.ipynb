{
 "cells": [
  {
   "cell_type": "markdown",
   "metadata": {},
   "source": [
    "## Differential Equations: Computational practicum\n",
    "Author: Vyacheslav Shults, BS17-8"
   ]
  },
  {
   "cell_type": "code",
   "execution_count": 1,
   "metadata": {},
   "outputs": [],
   "source": [
    "# setup the plotly graphics library and configure it to show \n",
    "# figures inline in the notebook\n",
    "import plotly.plotly as py\n",
    "import plotly.graph_objs as go\n",
    "\n",
    "import numpy as np\n",
    "from math import e"
   ]
  },
  {
   "cell_type": "code",
   "execution_count": 2,
   "metadata": {},
   "outputs": [],
   "source": [
    "# make qutip available in the rest of the notebook\n",
    "# from qutip import *\n",
    "import warnings\n",
    "warnings.filterwarnings('ignore')"
   ]
  },
  {
   "cell_type": "markdown",
   "metadata": {},
   "source": [
    "# Introduction\n",
    "\n",
    "The goal of this practicum is to solve Initial value problem (IVP) with an interesting interval using numerical methods such that Euler's method, improved Euler’s method and Runge-Kutta method.\n",
    "### $$\n",
    "\\left\\{\\begin{matrix}\n",
    "  y'=f(x, y)\\\\ \n",
    "  y(x_{0})=y_{0}\\\\\n",
    "  x\\in [x_{0}, X]\n",
    "\\end{matrix}\\right.\n",
    "$$\n",
    "In Variant 14 we have $ f(x, y) = \\cos\\left(x\\right)-y$,  $x_{0}=1, \\,y_{0}=1,\\, X=9.5$"
   ]
  },
  {
   "cell_type": "markdown",
   "metadata": {},
   "source": [
    "## Exact solution\n",
    "#### $ y' = \\cos\\left(x\\right)-y$\n",
    "This equation has exact solution $y=ce^{-x}+\\frac{1}{2}\\sin(x)+\\frac{1}{2}\\cos(x)$\n",
    "\n",
    "According to the initial value constant $c=e^{x_{0}}\\left(y_{0}-\\frac{\\sin(x_{0})+\\cos(x_{0})}{2}\\right)$ \n",
    "\n",
    "Solution is $y=\\frac{1}{2}\\left(2y_{0}-\\sin(x_{0})-\\cos(x_{0})\\right)e^{x_{0}-x}+\\frac{1}{2}\\sin(x)+\\frac{1}{2}\\cos(x)$"
   ]
  },
  {
   "cell_type": "code",
   "execution_count": 3,
   "metadata": {},
   "outputs": [],
   "source": [
    "# Define function f(x, y)\n",
    "f = lambda x, y: np.cos(x)-y\n",
    "# Define x0, y0, X\n",
    "x0 = 1\n",
    "y0 = 1\n",
    "X = 9.5\n",
    "\n",
    "# Define number of steps\n",
    "n_steps = 1000\n",
    "\n",
    "# Define exact solution\n",
    "f_e = lambda x, x0=x0, y0=y0: (y0-(np.sin(x0)+np.cos(x0))/2)*e**(x0-x)+(np.sin(x)+np.cos(x))/2"
   ]
  },
  {
   "cell_type": "markdown",
   "metadata": {},
   "source": [
    "## Euler's method"
   ]
  },
  {
   "cell_type": "code",
   "execution_count": 4,
   "metadata": {},
   "outputs": [],
   "source": [
    "def euler(fun, x0, y0, X, n_steps, print_res=False):\n",
    "    x = x0\n",
    "    y = y0\n",
    "    \n",
    "    h = (X - x)/n_steps\n",
    "    res = []\n",
    "    \n",
    "    for i in np.arange(n_steps):\n",
    "        res.append((i, x, y))\n",
    "        y += fun(x, y)*h\n",
    "        x += h\n",
    "        if print_res: \n",
    "            print(\"n: {:<4} x: {:<12g} y: {:<12g}\".format(*res[-1]))\n",
    "    return np.array(res)"
   ]
  },
  {
   "cell_type": "markdown",
   "metadata": {},
   "source": [
    "## Improved Euler's method"
   ]
  },
  {
   "cell_type": "code",
   "execution_count": 5,
   "metadata": {},
   "outputs": [],
   "source": [
    "def imroved_euler(fun, x0, y0, X, n_steps, print_res=False):\n",
    "    x = x0\n",
    "    y = y0\n",
    "    \n",
    "    h = (X - x)/n_steps\n",
    "    res = []\n",
    "    \n",
    "    for i in np.arange(n_steps):\n",
    "        res.append((i, x, y))\n",
    "        y_h = y + fun(x, y)*h\n",
    "        y = y + (fun(x, y)+fun(x+h, y_h))*h/2\n",
    "        x = x + h\n",
    "        if print_res: \n",
    "            print(\"n: {:<4} x: {:<12g} y: {:<12g}\".format(*res[-1]))\n",
    "    return np.array(res)"
   ]
  },
  {
   "cell_type": "markdown",
   "metadata": {},
   "source": [
    "## Runge–Kutta method"
   ]
  },
  {
   "cell_type": "code",
   "execution_count": 6,
   "metadata": {},
   "outputs": [],
   "source": [
    "def runge_kutta(fun, x0, y0, X, n_steps, print_res=False):\n",
    "    x = x0\n",
    "    y = y0\n",
    "    \n",
    "    h = (X - x)/n_steps\n",
    "    res = []\n",
    "    \n",
    "    for i in np.arange(n_steps):\n",
    "        res.append((i, x, y))\n",
    "        k1 = h*fun(x, y)\n",
    "        k2 = h*fun(x + h/2, y + k1/2)\n",
    "        k3 = h*fun(x + h/2, y + k2/2)\n",
    "        k4 = h*fun(x + h, y + k3)\n",
    "        y = y + (k1 + 2*k2 + 2*k3+ k4)/6\n",
    "        x = x + h\n",
    "        if print_res: \n",
    "            print(\"n: {:<4} x: {:<12g} y: {:<12g}\".format(*res[-1]))\n",
    "    return np.array(res)"
   ]
  },
  {
   "cell_type": "code",
   "execution_count": 7,
   "metadata": {},
   "outputs": [],
   "source": [
    "res1 =         euler(f, x0, y0, X, n_steps)\n",
    "res2 = imroved_euler(f, x0, y0, X, n_steps)\n",
    "res3 =   runge_kutta(f, x0, y0, X, n_steps)"
   ]
  },
  {
   "cell_type": "code",
   "execution_count": 8,
   "metadata": {},
   "outputs": [
    {
     "data": {
      "text/html": [
       "<iframe id=\"igraph\" scrolling=\"no\" style=\"border:none;\" seamless=\"seamless\" src=\"https://plot.ly/~shulz134700/16.embed\" height=\"525px\" width=\"100%\"></iframe>"
      ],
      "text/plain": [
       "<plotly.tools.PlotlyDisplay object>"
      ]
     },
     "execution_count": 8,
     "metadata": {},
     "output_type": "execute_result"
    }
   ],
   "source": [
    "trace1 = go.Scatter(\n",
    "    name = \"Exact solution\",\n",
    "    x = res1[:,1],\n",
    "    y = f_e(res1[:,1])\n",
    ")\n",
    "trace2 = go.Scatter(\n",
    "    name = \"Euler method\",\n",
    "    x=res1[:,1],\n",
    "    y=res1[:,2],\n",
    "    xaxis='x',\n",
    "    yaxis='y',  \n",
    ")\n",
    "trace3 = go.Scatter(\n",
    "    name = \"Improved Euler method\",\n",
    "    x=res2[:,1],\n",
    "    y=res2[:,2],\n",
    "    xaxis='x',\n",
    "    yaxis='y',  \n",
    ")\n",
    "trace4 = go.Scatter(\n",
    "    name = \"Runge–Kutta method\",\n",
    "    x=res3[:,1],\n",
    "    y=res3[:,2],\n",
    "    xaxis='x',\n",
    "    yaxis='y',  \n",
    ")\n",
    "layout = go.Layout(title=\"Solutions of ODE\",\n",
    "                   xaxis=dict(title=\"X axis\"),\n",
    "                   yaxis=dict(title=\"Y axis\"))\n",
    "data = [trace1, trace2, trace3, trace4]\n",
    "fig = go.Figure(data=data, layout=layout)\n",
    "py.iplot(fig, filename='simple-inset')"
   ]
  },
  {
   "cell_type": "code",
   "execution_count": 9,
   "metadata": {},
   "outputs": [
    {
     "data": {
      "text/html": [
       "<iframe id=\"igraph\" scrolling=\"no\" style=\"border:none;\" seamless=\"seamless\" src=\"https://plot.ly/~shulz134700/24.embed\" height=\"525px\" width=\"100%\"></iframe>"
      ],
      "text/plain": [
       "<plotly.tools.PlotlyDisplay object>"
      ]
     },
     "execution_count": 9,
     "metadata": {},
     "output_type": "execute_result"
    }
   ],
   "source": [
    "tr_err1 = go.Scatter(\n",
    "    name = \"Euler method\",\n",
    "    x = res1[:,1],\n",
    "    y = np.log10(np.abs(res1[:,2]-f_e(res1[:,1]))),\n",
    "    xaxis = 'x',\n",
    "    yaxis = 'y',  \n",
    ")\n",
    "tr_err2 = go.Scatter(\n",
    "    name = \"Improved Euler method\",\n",
    "    x = res2[:,1],\n",
    "    y = np.log10(np.abs(res2[:,2]-f_e(res1[:,1]))),\n",
    "    xaxis = 'x',\n",
    "    yaxis = 'y',  \n",
    ")\n",
    "tr_err3 = go.Scatter(\n",
    "    name = \"Runge–Kutta method\",\n",
    "    x = res3[:,1],\n",
    "    y = np.log10(np.abs(res3[:,2]-f_e(res3[:,1]))),\n",
    "    xaxis = 'x',\n",
    "    yaxis = 'y',  \n",
    ")\n",
    "layout_ltr = go.Layout(title=\"Comparison of Logarithm of global truncation errors\",\n",
    "                       xaxis=dict(title=\"X axis\"),\n",
    "                       yaxis=dict(title=\"Log10 error\"))\n",
    "data = [tr_err1, tr_err2, tr_err3]\n",
    "fig = go.Figure(data=data, layout=layout_ltr)\n",
    "py.iplot(fig, filename='comparison_of_gtr')"
   ]
  },
  {
   "cell_type": "markdown",
   "metadata": {},
   "source": [
    "## Bothside Euler's method"
   ]
  },
  {
   "cell_type": "code",
   "execution_count": 10,
   "metadata": {},
   "outputs": [],
   "source": [
    "def bs_euler(fun, x0, y0, X_start, X_end, n_steps):\n",
    "    if not (X_start <= x0 <= X_end):\n",
    "        return np.array([])\n",
    "    x = x0\n",
    "    y = y0\n",
    "    \n",
    "    h = (X_end - X_start)/n_steps\n",
    "    res = []\n",
    "    left_part = np.arange(x0, X_start, -h)\n",
    "    right_part = np.arange(x0, X_end, h) \n",
    "            \n",
    "    for x in left_part:\n",
    "        res.append((x, y))\n",
    "        y -= fun(x, y)*h\n",
    "        \n",
    "    res.reverse()\n",
    "    y = y0\n",
    "            \n",
    "    for x in right_part:\n",
    "        res.append((x, y))\n",
    "        y += fun(x, y)*h\n",
    "    \n",
    "    \n",
    "    return np.array(res)"
   ]
  },
  {
   "cell_type": "markdown",
   "metadata": {},
   "source": [
    "## Bothside Improved Euler's method"
   ]
  },
  {
   "cell_type": "code",
   "execution_count": 11,
   "metadata": {},
   "outputs": [],
   "source": [
    "def bs_imroved_euler(fun, x0, y0, X_start, X_end, n_steps):\n",
    "    if not (X_start <= x0 <= X_end):\n",
    "        return np.array([])\n",
    "    x = x0\n",
    "    y = y0\n",
    "    \n",
    "    h = (X_end - X_start)/n_steps\n",
    "    res = []\n",
    "    left_part = np.arange(x0, X_start, -h)\n",
    "    right_part = np.arange(x0, X_end, h)\n",
    "    \n",
    "    for x in left_part:\n",
    "        res.append((x, y))\n",
    "        y_h = y - fun(x, y)*h\n",
    "        y = y - (fun(x, y)+fun(x-h, y_h))*h/2\n",
    "        \n",
    "    res.reverse()\n",
    "    y = y0\n",
    "            \n",
    "    for x in right_part:\n",
    "        res.append((x, y))\n",
    "        y_h = y + fun(x, y)*h\n",
    "        y = y + (fun(x, y)+fun(x+h, y_h))*h/2\n",
    "#         x = x + h\n",
    "    \n",
    "    return np.array(res)"
   ]
  },
  {
   "cell_type": "markdown",
   "metadata": {},
   "source": [
    "## Bothside Runge–Kutta method"
   ]
  },
  {
   "cell_type": "code",
   "execution_count": 12,
   "metadata": {},
   "outputs": [],
   "source": [
    "def bs_runge_kutta(fun, x0, y0, X_start, X_end, n_steps, print_res=False):\n",
    "    if not (X_start <= x0 <= X_end):\n",
    "        return np.array([])\n",
    "    x = x0\n",
    "    y = y0\n",
    "    \n",
    "    h = (X_end - X_start)/n_steps\n",
    "    res = []\n",
    "    left_part = np.arange(x0, X_start, -h)\n",
    "    right_part = np.arange(x0, X_end, h)\n",
    "    \n",
    "    for x in left_part:\n",
    "        res.append((x, y))\n",
    "        k1 = -h*fun(x, y)\n",
    "        k2 = -h*fun(x - h/2, y + k1/2)\n",
    "        k3 = -h*fun(x - h/2, y + k2/2)\n",
    "        k4 = -h*fun(x - h, y + k3)\n",
    "        y = y + (k1 + 2*k2 + 2*k3 + k4)/6  \n",
    "        \n",
    "    res.reverse()\n",
    "    y = y0\n",
    "    \n",
    "    for x in right_part:\n",
    "        res.append((x, y))\n",
    "        k1 = h*fun(x, y)\n",
    "        k2 = h*fun(x + h/2, y + k1/2)\n",
    "        k3 = h*fun(x + h/2, y + k2/2)\n",
    "        k4 = h*fun(x + h, y + k3)\n",
    "        y = y + (k1 + 2*k2 + 2*k3+ k4)/6  \n",
    "    \n",
    "    return np.array(res)"
   ]
  },
  {
   "cell_type": "code",
   "execution_count": 13,
   "metadata": {},
   "outputs": [],
   "source": [
    "x_start = -5\n",
    "x_end = 20\n",
    "bs_eu = bs_euler(f, x0, y0, x_start, x_end, n_steps*2)\n",
    "bs_ie = bs_imroved_euler(f, x0, y0, x_start, x_end, n_steps*2)\n",
    "bs_rk = bs_runge_kutta(f, x0, y0, x_start, x_end, n_steps*2)"
   ]
  },
  {
   "cell_type": "code",
   "execution_count": 14,
   "metadata": {},
   "outputs": [
    {
     "data": {
      "text/html": [
       "<iframe id=\"igraph\" scrolling=\"no\" style=\"border:none;\" seamless=\"seamless\" src=\"https://plot.ly/~shulz134700/16.embed\" height=\"525px\" width=\"100%\"></iframe>"
      ],
      "text/plain": [
       "<plotly.tools.PlotlyDisplay object>"
      ]
     },
     "execution_count": 14,
     "metadata": {},
     "output_type": "execute_result"
    }
   ],
   "source": [
    "trace1_bs = go.Scatter(\n",
    "    name = \"Exact solution\",\n",
    "    x = bs_eu[:,0],\n",
    "    y = f_e(bs_eu[:,0])\n",
    ")\n",
    "trace2_bs = go.Scatter(\n",
    "    name = \"Bothside Euler method\",\n",
    "    x=bs_eu[:,0],\n",
    "    y=bs_eu[:,1],\n",
    "    xaxis='x',\n",
    "    yaxis='y',  \n",
    ")\n",
    "trace3_bs = go.Scatter(\n",
    "    name = \"Bothside Improved Euler method\",\n",
    "    x=bs_ie[:,0],\n",
    "    y=bs_ie[:,1],\n",
    "    xaxis='x',\n",
    "    yaxis='y',  \n",
    ")\n",
    "trace4_bs = go.Scatter(\n",
    "    name = \"Bothside Runge–Kutta method\",\n",
    "    x=bs_rk[:,0],\n",
    "    y=bs_rk[:,1],\n",
    "    xaxis='x',\n",
    "    yaxis='y',  \n",
    ")\n",
    "layout = go.Layout(title=\"Solutions of ODE\",\n",
    "                   xaxis=dict(title=\"X axis\"),\n",
    "                   yaxis=dict(title=\"Y axis\"))\n",
    "data = [trace1_bs, trace2_bs, trace3_bs, trace4_bs]\n",
    "fig = go.Figure(data=data, layout=layout)\n",
    "py.iplot(fig, filename='simple-inset')"
   ]
  },
  {
   "cell_type": "code",
   "execution_count": 15,
   "metadata": {},
   "outputs": [
    {
     "data": {
      "text/html": [
       "<iframe id=\"igraph\" scrolling=\"no\" style=\"border:none;\" seamless=\"seamless\" src=\"https://plot.ly/~shulz134700/24.embed\" height=\"525px\" width=\"100%\"></iframe>"
      ],
      "text/plain": [
       "<plotly.tools.PlotlyDisplay object>"
      ]
     },
     "execution_count": 15,
     "metadata": {},
     "output_type": "execute_result"
    }
   ],
   "source": [
    "tr_err1_bs = go.Scatter(\n",
    "    name = \"Bothside Euler method\",\n",
    "    x = bs_eu[:,0],\n",
    "    y = np.log10(np.abs(bs_eu[:,1]-f_e(bs_eu[:,0]))),\n",
    "    xaxis = 'x',\n",
    "    yaxis = 'y',  \n",
    ")\n",
    "tr_err2_bs = go.Scatter(\n",
    "    name = \"Bothside Improved Euler method\",\n",
    "    x = bs_ie[:,0],\n",
    "    y = np.log10(np.abs(bs_ie[:,1]-f_e(bs_ie[:,0]))),\n",
    "    xaxis = 'x',\n",
    "    yaxis = 'y',  \n",
    ")\n",
    "tr_err3_bs = go.Scatter(\n",
    "    name = \"Bothside Runge–Kutta method\",\n",
    "    x = bs_rk[:,0],\n",
    "    y = np.log10(np.abs(bs_rk[:,1]-f_e(bs_rk[:,0]))),\n",
    "    xaxis = 'x',\n",
    "    yaxis = 'y',  \n",
    ")\n",
    "layout_gtr_bs = go.Layout(title=\"Comparison of Logarithm of global truncation errors\",\n",
    "                       xaxis=dict(title=\"X axis\"),\n",
    "                       yaxis=dict(title=\"Log10 error\"))\n",
    "data = [tr_err1_bs, tr_err2_bs, tr_err3_bs]\n",
    "fig = go.Figure(data=data, layout=layout_ltr)\n",
    "py.iplot(fig, filename='comparison_of_gtr')"
   ]
  }
 ],
 "metadata": {
  "kernelspec": {
   "display_name": "Python 3",
   "language": "python",
   "name": "python3"
  },
  "language_info": {
   "codemirror_mode": {
    "name": "ipython",
    "version": 3
   },
   "file_extension": ".py",
   "mimetype": "text/x-python",
   "name": "python",
   "nbconvert_exporter": "python",
   "pygments_lexer": "ipython3",
   "version": "3.6.5"
  }
 },
 "nbformat": 4,
 "nbformat_minor": 2
}
